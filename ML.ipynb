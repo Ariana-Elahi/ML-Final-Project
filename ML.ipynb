{
 "cells": [
  {
   "cell_type": "markdown",
   "metadata": {},
   "source": [
    "Machine Learning Final Project\n",
    "\n",
    "-- Pre Processing Data"
   ]
  },
  {
   "cell_type": "code",
   "execution_count": 2,
   "metadata": {},
   "outputs": [
    {
     "name": "stdout",
     "output_type": "stream",
     "text": [
      "Requirement already satisfied: pandas in /opt/anaconda3/lib/python3.12/site-packages (2.2.2)\n",
      "Requirement already satisfied: scikit-learn in /opt/anaconda3/lib/python3.12/site-packages (1.5.1)\n",
      "Requirement already satisfied: numpy>=1.26.0 in /opt/anaconda3/lib/python3.12/site-packages (from pandas) (1.26.4)\n",
      "Requirement already satisfied: python-dateutil>=2.8.2 in /opt/anaconda3/lib/python3.12/site-packages (from pandas) (2.9.0.post0)\n",
      "Requirement already satisfied: pytz>=2020.1 in /opt/anaconda3/lib/python3.12/site-packages (from pandas) (2024.1)\n",
      "Requirement already satisfied: tzdata>=2022.7 in /opt/anaconda3/lib/python3.12/site-packages (from pandas) (2023.3)\n",
      "Requirement already satisfied: scipy>=1.6.0 in /opt/anaconda3/lib/python3.12/site-packages (from scikit-learn) (1.13.1)\n",
      "Requirement already satisfied: joblib>=1.2.0 in /opt/anaconda3/lib/python3.12/site-packages (from scikit-learn) (1.4.2)\n",
      "Requirement already satisfied: threadpoolctl>=3.1.0 in /opt/anaconda3/lib/python3.12/site-packages (from scikit-learn) (3.5.0)\n",
      "Requirement already satisfied: six>=1.5 in /opt/anaconda3/lib/python3.12/site-packages (from python-dateutil>=2.8.2->pandas) (1.16.0)\n",
      "\n",
      "\u001b[1m[\u001b[0m\u001b[34;49mnotice\u001b[0m\u001b[1;39;49m]\u001b[0m\u001b[39;49m A new release of pip is available: \u001b[0m\u001b[31;49m25.0\u001b[0m\u001b[39;49m -> \u001b[0m\u001b[32;49m25.0.1\u001b[0m\n",
      "\u001b[1m[\u001b[0m\u001b[34;49mnotice\u001b[0m\u001b[1;39;49m]\u001b[0m\u001b[39;49m To update, run: \u001b[0m\u001b[32;49mpip install --upgrade pip\u001b[0m\n"
     ]
    }
   ],
   "source": [
    "!pip install pandas scikit-learn\n",
    "import pandas as pd\n",
    "from sklearn.model_selection import train_test_split\n",
    "from sklearn.ensemble import RandomForestClassifier  # or RandomForestRegressor for regression\n",
    "from sklearn.metrics import accuracy_score  # or mean_squared_error for regression\n",
    "import pandas as pd\n",
    "from sklearn.model_selection import train_test_split\n",
    "from sklearn.ensemble import RandomForestRegressor\n",
    "from sklearn.preprocessing import StandardScaler, MinMaxScaler\n"
   ]
  },
  {
   "cell_type": "code",
   "execution_count": 3,
   "metadata": {},
   "outputs": [
    {
     "name": "stdout",
     "output_type": "stream",
     "text": [
      "  school sex  age address famsize Pstatus  Medu  Fedu     Mjob      Fjob  ...  \\\n",
      "0     GP   F   18       U     GT3       A     4     4  at_home   teacher  ...   \n",
      "1     GP   F   17       U     GT3       T     1     1  at_home     other  ...   \n",
      "2     GP   F   15       U     LE3       T     1     1  at_home     other  ...   \n",
      "3     GP   F   15       U     GT3       T     4     2   health  services  ...   \n",
      "4     GP   F   16       U     GT3       T     3     3    other     other  ...   \n",
      "\n",
      "  famrel freetime  goout  Dalc  Walc health absences  G1  G2  G3  \n",
      "0      4        3      4     1     1      3        6   5   6   6  \n",
      "1      5        3      3     1     1      3        4   5   5   6  \n",
      "2      4        3      2     2     3      3       10   7   8  10  \n",
      "3      3        2      2     1     1      5        2  15  14  15  \n",
      "4      4        3      2     1     2      5        4   6  10  10  \n",
      "\n",
      "[5 rows x 33 columns]\n"
     ]
    }
   ],
   "source": [
    "df = pd.read_csv('/Users/arianaelahi/Desktop/ML FINAL PROJECT DATA/student/student-mat.csv', sep=';')\n",
    "print(df.head())\n",
    "# had to seperate by ; instead of the default , bc that is standard practice is european countries"
   ]
  },
  {
   "cell_type": "code",
   "execution_count": 4,
   "metadata": {},
   "outputs": [
    {
     "name": "stdout",
     "output_type": "stream",
     "text": [
      "   sex  age  address  famsize  Pstatus  Medu  Fedu  traveltime  studytime  \\\n",
      "0    0   18        1        1        0     4     4           2          2   \n",
      "1    0   17        1        1        1     1     1           1          2   \n",
      "2    0   15        1        0        1     1     1           1          2   \n",
      "3    0   15        1        1        1     4     2           1          3   \n",
      "4    0   16        1        1        1     3     3           1          2   \n",
      "\n",
      "   failures  ...  Mjob_teacher  Fjob_health  Fjob_other  Fjob_services  \\\n",
      "0         0  ...         False        False       False          False   \n",
      "1         0  ...         False        False        True          False   \n",
      "2         3  ...         False        False        True          False   \n",
      "3         0  ...         False        False       False           True   \n",
      "4         0  ...         False        False        True          False   \n",
      "\n",
      "   Fjob_teacher  reason_home  reason_other  reason_reputation  \\\n",
      "0          True        False         False              False   \n",
      "1         False        False         False              False   \n",
      "2         False        False          True              False   \n",
      "3         False         True         False              False   \n",
      "4         False         True         False              False   \n",
      "\n",
      "   guardian_mother  guardian_other  \n",
      "0             True           False  \n",
      "1            False           False  \n",
      "2             True           False  \n",
      "3             True           False  \n",
      "4            False           False  \n",
      "\n",
      "[5 rows x 40 columns]\n"
     ]
    }
   ],
   "source": [
    "# Data Cleaning and preprocessing\n",
    "\n",
    "# Drop G1 and G2 to avoid data leakage\n",
    "df = df.drop(columns=['G1', 'G2'])\n",
    "\n",
    "# Binary Encoding for yes/no and binary features\n",
    "binary_columns = ['sex', 'address', 'famsize', 'Pstatus', 'schoolsup', 'famsup',\n",
    "                  'paid', 'activities', 'nursery', 'higher', 'internet', 'romantic']\n",
    "\n",
    "for col in binary_columns:\n",
    "    df[col] = df[col].map({'yes': 1, 'no': 0, 'F': 0, 'M': 1, 'U': 1, 'R': 0, 'LE3': 0, 'GT3': 1, 'T': 1, 'A': 0})\n",
    "\n",
    "# One-Hot Encoding for nominal categorical variables\n",
    "df = pd.get_dummies(df, columns=['school', 'Mjob', 'Fjob', 'reason', 'guardian'], drop_first=True)\n",
    "\n",
    "print(df.head())\n",
    "\n"
   ]
  },
  {
   "cell_type": "code",
   "execution_count": 5,
   "metadata": {},
   "outputs": [],
   "source": [
    "# standardization for Z-score\n",
    "\n",
    "# Define X and y\n",
    "X = df.drop(columns=['G3'])  # Features\n",
    "y = df['G3']                 # Target\n",
    "\n",
    "# Split the data\n",
    "X_train, X_test, y_train, y_test = train_test_split(X, y, test_size=0.2, random_state=42)\n",
    "\n",
    "# Apply StandardScaler\n",
    "scaler = StandardScaler()\n",
    "X_train_scaled = scaler.fit_transform(X_train)\n",
    "X_test_scaled = scaler.transform(X_test)\n"
   ]
  },
  {
   "cell_type": "markdown",
   "metadata": {},
   "source": [
    "RANDOM FOREST- VANILLA"
   ]
  },
  {
   "cell_type": "code",
   "execution_count": 22,
   "metadata": {},
   "outputs": [
    {
     "name": "stdout",
     "output_type": "stream",
     "text": [
      "Classification Report:\n",
      "              precision    recall  f1-score   support\n",
      "\n",
      "        Fail       0.57      0.15      0.24        27\n",
      "        Pass       0.68      0.94      0.79        52\n",
      "\n",
      "    accuracy                           0.67        79\n",
      "   macro avg       0.63      0.55      0.51        79\n",
      "weighted avg       0.64      0.67      0.60        79\n",
      "\n",
      "\n",
      "Top 10 Important Features:\n",
      "absences: 0.0923\n",
      "failures: 0.0683\n",
      "goout: 0.0586\n",
      "age: 0.0562\n",
      "freetime: 0.0472\n",
      "Fedu: 0.0415\n",
      "health: 0.0413\n",
      "Medu: 0.0404\n",
      "famrel: 0.0374\n",
      "Walc: 0.0346\n"
     ]
    },
    {
     "data": {
      "image/png": "[encoded data removed]",
      "text/plain": [
       "<Figure size 1000x600 with 1 Axes>"
      ]
     },
     "metadata": {},
     "output_type": "display_data"
    }
   ],
   "source": [
    "from sklearn.ensemble import RandomForestClassifier\n",
    "from sklearn.metrics import classification_report, confusion_matrix\n",
    "import numpy as np\n",
    "import matplotlib.pyplot as plt\n",
    "\n",
    "# Convert y to binary (Pass/Fail)\n",
    "y_binary = y.apply(lambda grade: 1 if grade >= 10 else 0)  # 1 = Pass, 0 = Fail\n",
    "\n",
    "# Train Random Forest\n",
    "rf = RandomForestClassifier(random_state=42)\n",
    "rf.fit(X_train_scaled, y_binary[y_train.index])\n",
    "\n",
    "# Predict on test set\n",
    "y_pred = rf.predict(X_test_scaled)\n",
    "\n",
    "# Classification report\n",
    "print(\"Classification Report:\")\n",
    "print(classification_report(y_binary[y_test.index], y_pred, target_names=[\"Fail\", \"Pass\"]))\n",
    "\n",
    "# Feature Importances\n",
    "importances = rf.feature_importances_\n",
    "indices = np.argsort(importances)[::-1]\n",
    "top10_indices = indices[:10]\n",
    "\n",
    "print(\"\\nTop 10 Important Features:\")\n",
    "for i in top10_indices:\n",
    "    print(f\"{X.columns[i]}: {importances[i]:.4f}\")\n",
    "\n",
    "plt.figure(figsize=(10, 6))\n",
    "plt.bar(range(10), importances[top10_indices])\n",
    "plt.xticks(range(10), [X.columns[i] for i in top10_indices], rotation=45, ha=\"right\")\n",
    "plt.title(\"Top 10 Feature Importances\")\n",
    "plt.tight_layout()\n",
    "plt.show()\n"
   ]
  },
  {
   "cell_type": "code",
   "execution_count": null,
   "metadata": {},
   "outputs": [
    {
     "data": {
      "image/png": "[encoded data removed]",
      "text/plain": [
       "<Figure size 600x400 with 1 Axes>"
      ]
     },
     "metadata": {},
     "output_type": "display_data"
    }
   ],
   "source": [
    "# Heat Map - Vanilla\n",
    "\n",
    "cm = confusion_matrix(y_test, y_pred)\n",
    "plt.figure(figsize=(6, 4))\n",
    "sns.heatmap(cm, annot=True, fmt='d', cmap='Blues', cbar=False,\n",
    "            xticklabels=[\"Predicted: Fail\", \"Predicted: Pass\"],\n",
    "            yticklabels=[\"Actual: Fail\", \"Actual: Pass\"])\n",
    "plt.title(\"Confusion Matrix (Pass/Fail)\")\n",
    "plt.xlabel(\"Predicted\")\n",
    "plt.ylabel(\"Actual\")\n",
    "plt.tight_layout()\n",
    "plt.show()\n"
   ]
  },
  {
   "cell_type": "markdown",
   "metadata": {},
   "source": [
    "RANDOM FOREST"
   ]
  },
  {
   "cell_type": "code",
   "execution_count": 2,
   "metadata": {},
   "outputs": [],
   "source": [
    "from sklearn.ensemble import RandomForestClassifier\n",
    "from sklearn.metrics import classification_report, confusion_matrix, f1_score\n",
    "import matplotlib.pyplot as plt\n",
    "import seaborn as sns\n",
    "import numpy as np\n"
   ]
  },
  {
   "cell_type": "code",
   "execution_count": null,
   "metadata": {},
   "outputs": [
    {
     "name": "stdout",
     "output_type": "stream",
     "text": [
      "Fitting 5 folds for each of 4050 candidates, totalling 20250 fits\n"
     ]
    }
   ],
   "source": [
    "import pandas as pd\n",
    "import matplotlib.pyplot as plt\n",
    "import seaborn as sns\n",
    "from sklearn.ensemble import RandomForestClassifier\n",
    "from sklearn.model_selection import train_test_split, GridSearchCV, cross_val_score\n",
    "from sklearn.metrics import confusion_matrix, classification_report\n",
    "from sklearn.preprocessing import StandardScaler\n",
    "from imblearn.over_sampling import SMOTE\n",
    "import numpy as np\n",
    "\n",
    "# Set random seed for reproducibility\n",
    "np.random.seed(42)\n",
    "\n",
    "# Load and preprocess data\n",
    "df = pd.read_csv('/Users/arianaelahi/Desktop/ML FINAL PROJECT DATA/student/student-mat.csv', sep=';')\n",
    "\n",
    "# Drop G1 and G2 to avoid data leakage\n",
    "df = df.drop(columns=['G1', 'G2'])\n",
    "\n",
    "# Binary Encoding for yes/no and binary features\n",
    "binary_columns = ['sex', 'address', 'famsize', 'Pstatus', 'schoolsup', 'famsup',\n",
    "                  'paid', 'activities', 'nursery', 'higher', 'internet', 'romantic']\n",
    "for col in binary_columns:\n",
    "    df[col] = df[col].map({'yes': 1, 'no': 0, 'F': 0, 'M': 1, 'U': 1, 'R': 0, 'LE3': 0, 'GT3': 1, 'T': 1, 'A': 0})\n",
    "\n",
    "# One-Hot Encoding for nominal categorical variables\n",
    "df = pd.get_dummies(df, columns=['school', 'Mjob', 'Fjob', 'reason', 'guardian'], drop_first=True)\n",
    "\n",
    "# Feature Engineering\n",
    "df['parental_edu'] = df['Medu'] + df['Fedu']  # Combined parental education\n",
    "df['study_travel_ratio'] = df['studytime'] / (df['traveltime'] + 0.1)  # Avoid division by zero\n",
    "df['failures_per_absences'] = df['failures'] / (df['absences'] + 0.1)  # Avoid division by zero\n",
    "df['freetime_studytime_ratio'] = df['freetime'] / (df['studytime'] + 0.1)  # Ratio\n",
    "df['family_quality'] = df['famrel'] * df['famsup']  # Family support quality\n",
    "\n",
    "# Convert G3 to letter grades\n",
    "def convert_to_letter_grade(g):\n",
    "    if g >= 15:\n",
    "        return 'A'\n",
    "    elif g >= 13:\n",
    "        return 'B'\n",
    "    elif g >= 10:\n",
    "        return 'C'\n",
    "    elif g >= 8:\n",
    "        return 'D'\n",
    "    else:\n",
    "        return 'F'\n",
    "\n",
    "y_letter = df['G3'].apply(convert_to_letter_grade)\n",
    "X = df.drop(columns=['G3'])\n",
    "\n",
    "# Train-test split\n",
    "X_train, X_test, y_train, y_test = train_test_split(X, y_letter, test_size=0.2, random_state=42, stratify=y_letter)\n",
    "\n",
    "# Scale features\n",
    "scaler = StandardScaler()\n",
    "X_train_scaled = scaler.fit_transform(X_train)\n",
    "X_test_scaled = scaler.transform(X_test)\n",
    "\n",
    "# Handle class imbalance with SMOTE\n",
    "smote = SMOTE(random_state=42, k_neighbors=3, sampling_strategy='not majority')\n",
    "X_train_balanced, y_train_balanced = smote.fit_resample(X_train_scaled, y_train)\n",
    "\n",
    "# Define Random Forest Classifier\n",
    "rf = RandomForestClassifier(random_state=42)\n",
    "\n",
    "# Expanded hyperparameter tuning\n",
    "param_grid = {\n",
    "    'n_estimators': [100, 200, 300, 400, 500],\n",
    "    'max_depth': [10, 15, 20, 25, None],\n",
    "    'min_samples_split': [2, 5, 10],\n",
    "    'min_samples_leaf': [1, 2, 4],\n",
    "    'max_features': ['auto', 'sqrt', 'log2'],\n",
    "    'class_weight': ['balanced', 'balanced_subsample', None],\n",
    "    'bootstrap': [True, False]\n",
    "}\n",
    "grid_search = GridSearchCV(estimator=rf, param_grid=param_grid, cv=5, scoring='f1_weighted', n_jobs=-1, verbose=1)\n",
    "grid_search.fit(X_train_balanced, y_train_balanced)\n",
    "\n",
    "# Best model\n",
    "best_rf = grid_search.best_estimator_\n",
    "\n",
    "# Predict\n",
    "y_pred = best_rf.predict(X_test_scaled)\n",
    "\n",
    "# Confusion Matrix\n",
    "cm = confusion_matrix(y_test, y_pred, labels=['A', 'B', 'C', 'D', 'F'])\n",
    "plt.figure(figsize=(10, 6))\n",
    "sns.heatmap(cm, annot=True, fmt='d', cmap='Blues', xticklabels=['A', 'B', 'C', 'D', 'F'], yticklabels=['A', 'B', 'C', 'D', 'F'])\n",
    "plt.xlabel(\"Predicted\")\n",
    "plt.ylabel(\"Actual\")\n",
    "plt.title(\"Confusion Matrix\")\n",
    "plt.savefig('confusion_matrix.png')\n",
    "plt.show()\n",
    "plt.close()\n",
    "\n",
    "# Feature Importances\n",
    "importances = pd.Series(best_rf.feature_importances_, index=X.columns)\n",
    "top_10_features = importances.sort_values(ascending=False).head(10)\n",
    "print(\"\\nTop 10 Most Important Features:\")\n",
    "print(top_10_features)\n",
    "\n",
    "# Plot top 10 feature importances\n",
    "plt.figure(figsize=(10, 6))\n",
    "sns.barplot(x=top_10_features.values, y=top_10_features.index)\n",
    "plt.title(\"Top 10 Feature Importances\")\n",
    "plt.xlabel(\"Importance Score\")\n",
    "plt.ylabel(\"Feature\")\n",
    "plt.savefig('feature_importances.png')\n",
    "plt.show()\n",
    "plt.close()\n",
    "\n",
    "# Best model parameters\n",
    "print(\"Best Parameters:\", grid_search.best_params_)\n",
    "\n",
    "# Cross-validation score\n",
    "cv_scores = cross_val_score(best_rf, X_train_balanced, y_train_balanced, cv=5, scoring='f1_weighted')\n",
    "print(\"Cross-Validation F1 Score: {:.2f} ± {:.2f}\".format(cv_scores.mean(), cv_scores.std()))\n",
    "\n",
    "# Classification report\n",
    "print(\"\\nClassification Report:\")\n",
    "print(classification_report(y_test, y_pred))"
   ]
  }
 ],
 "metadata": {
  "kernelspec": {
   "display_name": "base",
   "language": "python",
   "name": "python3"
  },
  "language_info": {
   "codemirror_mode": {
    "name": "ipython",
    "version": 3
   },
   "file_extension": ".py",
   "mimetype": "text/x-python",
   "name": "python",
   "nbconvert_exporter": "python",
   "pygments_lexer": "ipython3",
   "version": "3.12.7"
  }
 },
 "nbformat": 4,
 "nbformat_minor": 2
}
