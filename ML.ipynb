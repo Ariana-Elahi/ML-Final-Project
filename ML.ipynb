{
 "cells": [
  {
   "cell_type": "markdown",
   "metadata": {},
   "source": [
    "Machine Learning Final Project\n",
    "\n",
    "-- Pre Processing Data"
   ]
  },
  {
   "cell_type": "code",
   "execution_count": 65,
   "metadata": {},
   "outputs": [
    {
     "name": "stdout",
     "output_type": "stream",
     "text": [
      "Requirement already satisfied: pandas in /opt/anaconda3/lib/python3.12/site-packages (2.2.2)\n",
      "Requirement already satisfied: scikit-learn in /opt/anaconda3/lib/python3.12/site-packages (1.5.1)\n",
      "Requirement already satisfied: numpy>=1.26.0 in /opt/anaconda3/lib/python3.12/site-packages (from pandas) (1.26.4)\n",
      "Requirement already satisfied: python-dateutil>=2.8.2 in /opt/anaconda3/lib/python3.12/site-packages (from pandas) (2.9.0.post0)\n",
      "Requirement already satisfied: pytz>=2020.1 in /opt/anaconda3/lib/python3.12/site-packages (from pandas) (2024.1)\n",
      "Requirement already satisfied: tzdata>=2022.7 in /opt/anaconda3/lib/python3.12/site-packages (from pandas) (2023.3)\n",
      "Requirement already satisfied: scipy>=1.6.0 in /opt/anaconda3/lib/python3.12/site-packages (from scikit-learn) (1.13.1)\n",
      "Requirement already satisfied: joblib>=1.2.0 in /opt/anaconda3/lib/python3.12/site-packages (from scikit-learn) (1.4.2)\n",
      "Requirement already satisfied: threadpoolctl>=3.1.0 in /opt/anaconda3/lib/python3.12/site-packages (from scikit-learn) (3.5.0)\n",
      "Requirement already satisfied: six>=1.5 in /opt/anaconda3/lib/python3.12/site-packages (from python-dateutil>=2.8.2->pandas) (1.16.0)\n"
     ]
    }
   ],
   "source": [
    "#!pip install pandas scikit-learn\n",
    "import pandas as pd\n",
    "from sklearn.model_selection import train_test_split\n",
    "from sklearn.ensemble import RandomForestClassifier  # or RandomForestRegressor for regression\n",
    "from sklearn.metrics import accuracy_score  # or mean_squared_error for regression\n",
    "import pandas as pd\n",
    "from sklearn.model_selection import train_test_split\n",
    "from sklearn.ensemble import RandomForestRegressor\n",
    "from sklearn.preprocessing import StandardScaler, MinMaxScaler\n"
   ]
  },
  {
   "cell_type": "code",
   "execution_count": 66,
   "metadata": {},
   "outputs": [
    {
     "name": "stdout",
     "output_type": "stream",
     "text": [
      "  school sex  age address famsize Pstatus  Medu  Fedu     Mjob      Fjob  ...  \\\n",
      "0     GP   F   18       U     GT3       A     4     4  at_home   teacher  ...   \n",
      "1     GP   F   17       U     GT3       T     1     1  at_home     other  ...   \n",
      "2     GP   F   15       U     LE3       T     1     1  at_home     other  ...   \n",
      "3     GP   F   15       U     GT3       T     4     2   health  services  ...   \n",
      "4     GP   F   16       U     GT3       T     3     3    other     other  ...   \n",
      "\n",
      "  famrel freetime  goout  Dalc  Walc health absences  G1  G2  G3  \n",
      "0      4        3      4     1     1      3        6   5   6   6  \n",
      "1      5        3      3     1     1      3        4   5   5   6  \n",
      "2      4        3      2     2     3      3       10   7   8  10  \n",
      "3      3        2      2     1     1      5        2  15  14  15  \n",
      "4      4        3      2     1     2      5        4   6  10  10  \n",
      "\n",
      "[5 rows x 33 columns]\n"
     ]
    }
   ],
   "source": [
    "df = pd.read_csv('/Users/karukavina/Documents/VSCODEFiles/ML/ML-Final-Project/student-mat.csv', sep=';')\n",
    "print(df.head())\n",
    "# had to seperate by ; instead of the default , bc that is standard practice is european countries"
   ]
  },
  {
   "cell_type": "code",
   "execution_count": 67,
   "metadata": {},
   "outputs": [
    {
     "name": "stdout",
     "output_type": "stream",
     "text": [
      "   sex  age  address  famsize  Pstatus  Medu  Fedu  traveltime  studytime  \\\n",
      "0    0   18        1        1        0     4     4           2          2   \n",
      "1    0   17        1        1        1     1     1           1          2   \n",
      "2    0   15        1        0        1     1     1           1          2   \n",
      "3    0   15        1        1        1     4     2           1          3   \n",
      "4    0   16        1        1        1     3     3           1          2   \n",
      "\n",
      "   failures  ...  Mjob_teacher  Fjob_health  Fjob_other  Fjob_services  \\\n",
      "0         0  ...         False        False       False          False   \n",
      "1         0  ...         False        False        True          False   \n",
      "2         3  ...         False        False        True          False   \n",
      "3         0  ...         False        False       False           True   \n",
      "4         0  ...         False        False        True          False   \n",
      "\n",
      "   Fjob_teacher  reason_home  reason_other  reason_reputation  \\\n",
      "0          True        False         False              False   \n",
      "1         False        False         False              False   \n",
      "2         False        False          True              False   \n",
      "3         False         True         False              False   \n",
      "4         False         True         False              False   \n",
      "\n",
      "   guardian_mother  guardian_other  \n",
      "0             True           False  \n",
      "1            False           False  \n",
      "2             True           False  \n",
      "3             True           False  \n",
      "4            False           False  \n",
      "\n",
      "[5 rows x 40 columns]\n"
     ]
    }
   ],
   "source": [
    "# Data Cleaning and preprocessing\n",
    "\n",
    "# Drop G1 and G2 to avoid data leakage\n",
    "df = df.drop(columns=['G1', 'G2'])\n",
    "\n",
    "# Binary Encoding for yes/no and binary features\n",
    "binary_columns = ['sex', 'address', 'famsize', 'Pstatus', 'schoolsup', 'famsup',\n",
    "                  'paid', 'activities', 'nursery', 'higher', 'internet', 'romantic']\n",
    "\n",
    "for col in binary_columns:\n",
    "    df[col] = df[col].map({'yes': 1, 'no': 0, 'F': 0, 'M': 1, 'U': 1, 'R': 0, 'LE3': 0, 'GT3': 1, 'T': 1, 'A': 0})\n",
    "\n",
    "# One-Hot Encoding for nominal categorical variables\n",
    "df = pd.get_dummies(df, columns=['school', 'Mjob', 'Fjob', 'reason', 'guardian'], drop_first=True)\n",
    "\n",
    "print(df.head())\n",
    "\n"
   ]
  },
  {
   "cell_type": "code",
   "execution_count": 68,
   "metadata": {},
   "outputs": [],
   "source": [
    "# standardization for Z-score\n",
    "\n",
    "# Define X and y\n",
    "X = df.drop(columns=['G3'])  # Features\n",
    "y = df['G3']                 # Target\n",
    "\n",
    "# Split the data\n",
    "X_train, X_test, y_train, y_test = train_test_split(X, y, test_size=0.2, random_state=42)\n",
    "\n",
    "# Apply StandardScaler\n",
    "scaler = StandardScaler()\n",
    "X_train_scaled = scaler.fit_transform(X_train)\n",
    "X_test_scaled = scaler.transform(X_test)\n"
   ]
  },
  {
   "cell_type": "markdown",
   "metadata": {},
   "source": [
    "RANDOM FOREST"
   ]
  },
  {
   "cell_type": "code",
   "execution_count": 69,
   "metadata": {},
   "outputs": [],
   "source": [
    "from sklearn.ensemble import RandomForestClassifier\n",
    "from sklearn.metrics import classification_report, confusion_matrix, f1_score\n",
    "import matplotlib.pyplot as plt\n",
    "import seaborn as sns\n",
    "import numpy as np\n"
   ]
  },
  {
   "cell_type": "code",
   "execution_count": 37,
   "metadata": {},
   "outputs": [
    {
     "name": "stdout",
     "output_type": "stream",
     "text": [
      "Fitting 5 folds for each of 216 candidates, totalling 1080 fits\n"
     ]
    },
    {
     "name": "stderr",
     "output_type": "stream",
     "text": [
      "/opt/anaconda3/lib/python3.12/site-packages/numpy/ma/core.py:2820: RuntimeWarning: invalid value encountered in cast\n",
      "  _data = np.array(data, dtype=dtype, copy=copy,\n"
     ]
    },
    {
     "data": {
      "image/png": "[encoded data removed]",
      "text/plain": [
       "<Figure size 1000x600 with 2 Axes>"
      ]
     },
     "metadata": {},
     "output_type": "display_data"
    },
    {
     "name": "stdout",
     "output_type": "stream",
     "text": [
      "\n",
      "Top 10 Most Important Features:\n",
      "absences     0.073128\n",
      "Medu         0.053474\n",
      "goout        0.052229\n",
      "age          0.048951\n",
      "freetime     0.046475\n",
      "Walc         0.045814\n",
      "Fedu         0.041846\n",
      "health       0.040884\n",
      "studytime    0.039201\n",
      "famrel       0.037952\n",
      "dtype: float64\n"
     ]
    },
    {
     "data": {
      "image/png": "[encoded data removed]",
      "text/plain": [
       "<Figure size 1000x600 with 1 Axes>"
      ]
     },
     "metadata": {},
     "output_type": "display_data"
    },
    {
     "name": "stdout",
     "output_type": "stream",
     "text": [
      "Best Parameters: {'class_weight': 'balanced', 'max_depth': 20, 'min_samples_leaf': 1, 'min_samples_split': 2, 'n_estimators': 200}\n",
      "Cross-Validation Accuracy: 0.72 ± 0.15\n",
      "\n",
      "Classification Report:\n",
      "              precision    recall  f1-score   support\n",
      "\n",
      "           A       0.50      0.50      0.50        14\n",
      "           B       0.40      0.17      0.24        12\n",
      "           C       0.44      0.56      0.49        27\n",
      "           D       0.10      0.08      0.09        12\n",
      "           F       0.50      0.57      0.53        14\n",
      "\n",
      "    accuracy                           0.42        79\n",
      "   macro avg       0.39      0.38      0.37        79\n",
      "weighted avg       0.40      0.42      0.40        79\n",
      "\n"
     ]
    }
   ],
   "source": [
    "import pandas as pd\n",
    "import matplotlib.pyplot as plt\n",
    "import seaborn as sns\n",
    "from sklearn.ensemble import RandomForestClassifier\n",
    "from sklearn.model_selection import train_test_split, GridSearchCV\n",
    "from sklearn.metrics import confusion_matrix\n",
    "from sklearn.preprocessing import StandardScaler\n",
    "from imblearn.over_sampling import SMOTE\n",
    "\n",
    "# Load and preprocess data\n",
    "df = pd.read_csv('/Users/arianaelahi/Desktop/ML FINAL PROJECT DATA/student/student-mat.csv', sep=';')\n",
    "\n",
    "# Drop G1 and G2 to avoid data leakage\n",
    "df = df.drop(columns=['G1', 'G2'])\n",
    "\n",
    "# Binary Encoding for yes/no and binary features\n",
    "binary_columns = ['sex', 'address', 'famsize', 'Pstatus', 'schoolsup', 'famsup',\n",
    "                  'paid', 'activities', 'nursery', 'higher', 'internet', 'romantic']\n",
    "for col in binary_columns:\n",
    "    df[col] = df[col].map({'yes': 1, 'no': 0, 'F': 0, 'M': 1, 'U': 1, 'R': 0, 'LE3': 0, 'GT3': 1, 'T': 1, 'A': 0})\n",
    "\n",
    "# One-Hot Encoding for nominal categorical variables\n",
    "df = pd.get_dummies(df, columns=['school', 'Mjob', 'Fjob', 'reason', 'guardian'], drop_first=True)\n",
    "\n",
    "# Convert G3 to letter grades\n",
    "def convert_to_letter_grade(g):\n",
    "    if g >= 15:\n",
    "        return 'A'\n",
    "    elif g >= 13:\n",
    "        return 'B'\n",
    "    elif g >= 10:\n",
    "        return 'C'\n",
    "    elif g >= 8:\n",
    "        return 'D'\n",
    "    else:\n",
    "        return 'F'\n",
    "\n",
    "y_letter = df['G3'].apply(convert_to_letter_grade)\n",
    "X = df.drop(columns=['G3'])\n",
    "\n",
    "# Train-test split\n",
    "X_train, X_test, y_train, y_test = train_test_split(X, y_letter, test_size=0.2, random_state=42, stratify=y_letter)\n",
    "\n",
    "# Scale features\n",
    "scaler = StandardScaler()\n",
    "X_train_scaled = scaler.fit_transform(X_train)\n",
    "X_test_scaled = scaler.transform(X_test)\n",
    "\n",
    "# Handle class imbalance with SMOTE\n",
    "smote = SMOTE(random_state=42)\n",
    "X_train_balanced, y_train_balanced = smote.fit_resample(X_train_scaled, y_train)\n",
    "\n",
    "# Define Random Forest Classifier and tune hyperparameters\n",
    "rf = RandomForestClassifier(random_state=42)\n",
    "param_grid = {\n",
    "    'n_estimators': [100, 200, 300],\n",
    "    'max_depth': [10, 15, 20, None],\n",
    "    'min_samples_split': [2, 5, 10],\n",
    "    'min_samples_leaf': [1, 2, 4],\n",
    "    'class_weight': ['balanced', None]\n",
    "}\n",
    "grid_search = GridSearchCV(estimator=rf, param_grid=param_grid, cv=5, scoring='accuracy', n_jobs=-1, verbose=1)\n",
    "grid_search.fit(X_train_balanced, y_train_balanced)\n",
    "\n",
    "# Best model\n",
    "best_rf = grid_search.best_estimator_\n",
    "\n",
    "# Predict\n",
    "y_pred = best_rf.predict(X_test_scaled)\n",
    "\n",
    "# Confusion Matrix\n",
    "cm = confusion_matrix(y_test, y_pred)\n",
    "plt.figure(figsize=(10, 6))\n",
    "sns.heatmap(cm, annot=True, fmt='d', cmap='Blues', xticklabels=['A', 'B', 'C', 'D', 'F'], yticklabels=['A', 'B', 'C', 'D', 'F'])\n",
    "plt.xlabel(\"Predicted\")\n",
    "plt.ylabel(\"Actual\")\n",
    "plt.title(\"Confusion Matrix\")\n",
    "plt.savefig('confusion_matrix.png')\n",
    "plt.show()  # Display the plot\n",
    "plt.close()\n",
    "\n",
    "# Feature Importances\n",
    "importances = pd.Series(best_rf.feature_importances_, index=X.columns)\n",
    "top_10_features = importances.sort_values(ascending=False).head(10)\n",
    "print(\"\\nTop 10 Most Important Features:\")\n",
    "print(top_10_features)\n",
    "\n",
    "# Plot top 10 feature importances\n",
    "plt.figure(figsize=(10, 6))\n",
    "sns.barplot(x=top_10_features.values, y=top_10_features.index)\n",
    "plt.title(\"Top 10 Feature Importances\")\n",
    "plt.xlabel(\"Importance Score\")\n",
    "plt.ylabel(\"Feature\")\n",
    "plt.savefig('feature_importances.png')\n",
    "plt.show()  # Display the plot\n",
    "plt.close()\n",
    "\n",
    "\n",
    "# Best model\n",
    "best_rf = grid_search.best_estimator_\n",
    "print(\"Best Parameters:\", grid_search.best_params_)\n",
    "\n",
    "# Cross-validation score\n",
    "cv_scores = cross_val_score(best_rf, X_train_balanced, y_train_balanced, cv=5, scoring='accuracy')\n",
    "print(\"Cross-Validation Accuracy: {:.2f} ± {:.2f}\".format(cv_scores.mean(), cv_scores.std()))\n",
    "\n",
    "# Predict and evaluate\n",
    "y_pred = best_rf.predict(X_test_scaled)\n",
    "print(\"\\nClassification Report:\")\n",
    "print(classification_report(y_test, y_pred))"
   ]
  },
  {
   "cell_type": "markdown",
   "metadata": {},
   "source": [
    "UNSUPERVISED MODEL\n",
    "*kmeans clustering*"
   ]
  }
 ],
 "metadata": {
  "kernelspec": {
   "display_name": "base",
   "language": "python",
   "name": "python3"
  },
  "language_info": {
   "codemirror_mode": {
    "name": "ipython",
    "version": 3
   },
   "file_extension": ".py",
   "mimetype": "text/x-python",
   "name": "python",
   "nbconvert_exporter": "python",
   "pygments_lexer": "ipython3",
   "version": "3.12.7"
  }
 },
 "nbformat": 4,
 "nbformat_minor": 2
}
